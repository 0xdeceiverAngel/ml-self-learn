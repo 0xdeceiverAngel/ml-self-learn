{
  "nbformat": 4,
  "nbformat_minor": 0,
  "metadata": {
    "colab": {
      "name": "cnn mnist.ipynb",
      "provenance": []
    },
    "kernelspec": {
      "name": "python3",
      "display_name": "Python 3"
    }
  },
  "cells": [
    {
      "cell_type": "code",
      "metadata": {
        "id": "9bq8UY7NtYxl"
      },
      "source": [
        "import numpy as np\r\n",
        "from keras.datasets import mnist\r\n",
        "from keras.models import Sequential\r\n",
        "from keras.layers import Dense\r\n",
        "from keras.layers import Flatten\r\n",
        "from keras.layers import Conv2D\r\n",
        "from keras.layers import MaxPooling2D\r\n",
        "from keras.layers import Dropout\r\n",
        "from keras.utils import to_categorical\r\n",
        "import matplotlib.pyplot as plt\r\n",
        "import time\r\n",
        "import pandas as pd"
      ],
      "execution_count": 71,
      "outputs": []
    },
    {
      "cell_type": "code",
      "metadata": {
        "colab": {
          "base_uri": "https://localhost:8080/"
        },
        "id": "PePZ6PtgtnFP",
        "outputId": "ea372bf2-c053-4bbb-db0d-172db6dbf14d"
      },
      "source": [
        "(X_train, Y_train), (X_test, Y_test) = mnist.load_data()\r\n",
        "X_train = X_train.reshape(X_train.shape[0], 28, 28, 1).astype(\"float32\")\r\n",
        "X_test = X_test.reshape(X_test.shape[0], 28, 28, 1).astype(\"float32\")\r\n",
        "print(X_train.shape)\r\n",
        "print(Y_train.shape)"
      ],
      "execution_count": 72,
      "outputs": [
        {
          "output_type": "stream",
          "text": [
            "(60000, 28, 28, 1)\n",
            "(60000,)\n"
          ],
          "name": "stdout"
        }
      ]
    },
    {
      "cell_type": "code",
      "metadata": {
        "id": "6RqyPKBJuL9H"
      },
      "source": [
        "# X_train = X_train / 255\r\n",
        "# X_test = X_test / 255"
      ],
      "execution_count": 73,
      "outputs": []
    },
    {
      "cell_type": "code",
      "metadata": {
        "id": "sL4X6QjvuWEm"
      },
      "source": [
        "Y_train = to_categorical(Y_train)\r\n",
        "Y_test = to_categorical(Y_test)"
      ],
      "execution_count": 74,
      "outputs": []
    },
    {
      "cell_type": "code",
      "metadata": {
        "colab": {
          "base_uri": "https://localhost:8080/"
        },
        "id": "WSNiP0EduZyX",
        "outputId": "f18383fa-7202-48cc-c5e7-28ca90a69fbe"
      },
      "source": [
        "model = Sequential()\r\n",
        "model.add(Conv2D(9, kernel_size=(5, 5), padding=\"same\",\r\n",
        "                 input_shape=(28,28,1), activation=\"relu\"))\r\n",
        "model.add(MaxPooling2D(pool_size=(2, 2)))\r\n",
        "model.add(Conv2D(16, kernel_size=(5, 5), padding=\"same\",\r\n",
        "                 activation=\"relu\"))\r\n",
        "model.add(MaxPooling2D(pool_size=(2, 2)))\r\n",
        "model.add(Dropout(0.4))\r\n",
        "model.add(Flatten())\r\n",
        "model.add(Dense(128, activation=\"relu\"))\r\n",
        "model.add(Dropout(0.5))\r\n",
        "model.add(Dense(10, activation=\"softmax\"))\r\n",
        "model.compile(loss=\"categorical_crossentropy\", optimizer=\"adam\",\r\n",
        "              metrics=[\"accuracy\"])\r\n",
        "model.summary()  "
      ],
      "execution_count": 75,
      "outputs": [
        {
          "output_type": "stream",
          "text": [
            "Model: \"sequential_9\"\n",
            "_________________________________________________________________\n",
            "Layer (type)                 Output Shape              Param #   \n",
            "=================================================================\n",
            "conv2d_15 (Conv2D)           (None, 28, 28, 9)         234       \n",
            "_________________________________________________________________\n",
            "max_pooling2d_12 (MaxPooling (None, 14, 14, 9)         0         \n",
            "_________________________________________________________________\n",
            "conv2d_16 (Conv2D)           (None, 14, 14, 16)        3616      \n",
            "_________________________________________________________________\n",
            "max_pooling2d_13 (MaxPooling (None, 7, 7, 16)          0         \n",
            "_________________________________________________________________\n",
            "dropout_12 (Dropout)         (None, 7, 7, 16)          0         \n",
            "_________________________________________________________________\n",
            "flatten_6 (Flatten)          (None, 784)               0         \n",
            "_________________________________________________________________\n",
            "dense_12 (Dense)             (None, 128)               100480    \n",
            "_________________________________________________________________\n",
            "dropout_13 (Dropout)         (None, 128)               0         \n",
            "_________________________________________________________________\n",
            "dense_13 (Dense)             (None, 10)                1290      \n",
            "=================================================================\n",
            "Total params: 105,620\n",
            "Trainable params: 105,620\n",
            "Non-trainable params: 0\n",
            "_________________________________________________________________\n"
          ],
          "name": "stdout"
        }
      ]
    },
    {
      "cell_type": "code",
      "metadata": {
        "colab": {
          "base_uri": "https://localhost:8080/"
        },
        "id": "feZC3mWkugbj",
        "outputId": "a8ad1196-db44-4e38-9851-7604648bb7a3"
      },
      "source": [
        "t1 = time.monotonic()\r\n",
        "history = model.fit(X_train, Y_train, validation_split=0.2,\r\n",
        "                    epochs=10, batch_size=128, verbose=1)\r\n",
        "t2 = time.monotonic()\r\n",
        "print(f\"time:{t1-t2} sec\")\r\n",
        "model.save(\"mnist.h5\")"
      ],
      "execution_count": 76,
      "outputs": [
        {
          "output_type": "stream",
          "text": [
            "Epoch 1/10\n",
            "375/375 [==============================] - 36s 95ms/step - loss: 6.3822 - accuracy: 0.4566 - val_loss: 0.2315 - val_accuracy: 0.9333\n",
            "Epoch 2/10\n",
            "375/375 [==============================] - 35s 94ms/step - loss: 0.4865 - accuracy: 0.8488 - val_loss: 0.1396 - val_accuracy: 0.9592\n",
            "Epoch 3/10\n",
            "375/375 [==============================] - 36s 95ms/step - loss: 0.3268 - accuracy: 0.9006 - val_loss: 0.0962 - val_accuracy: 0.9705\n",
            "Epoch 4/10\n",
            "375/375 [==============================] - 36s 95ms/step - loss: 0.2550 - accuracy: 0.9245 - val_loss: 0.0907 - val_accuracy: 0.9764\n",
            "Epoch 5/10\n",
            "375/375 [==============================] - 36s 95ms/step - loss: 0.2055 - accuracy: 0.9374 - val_loss: 0.0750 - val_accuracy: 0.9777\n",
            "Epoch 6/10\n",
            "375/375 [==============================] - 36s 96ms/step - loss: 0.1787 - accuracy: 0.9454 - val_loss: 0.0671 - val_accuracy: 0.9813\n",
            "Epoch 7/10\n",
            "375/375 [==============================] - 36s 96ms/step - loss: 0.1618 - accuracy: 0.9514 - val_loss: 0.0657 - val_accuracy: 0.9813\n",
            "Epoch 8/10\n",
            "375/375 [==============================] - 36s 96ms/step - loss: 0.1506 - accuracy: 0.9543 - val_loss: 0.0600 - val_accuracy: 0.9822\n",
            "Epoch 9/10\n",
            "375/375 [==============================] - 36s 96ms/step - loss: 0.1433 - accuracy: 0.9581 - val_loss: 0.0504 - val_accuracy: 0.9862\n",
            "Epoch 10/10\n",
            "375/375 [==============================] - 36s 95ms/step - loss: 0.1280 - accuracy: 0.9621 - val_loss: 0.0510 - val_accuracy: 0.9862\n",
            "time:-357.52712538800006 sec\n"
          ],
          "name": "stdout"
        }
      ]
    },
    {
      "cell_type": "code",
      "metadata": {
        "colab": {
          "base_uri": "https://localhost:8080/"
        },
        "id": "H_IMo4G3uyFB",
        "outputId": "8558c411-5c9f-4ea3-d99b-17905a224e83"
      },
      "source": [
        "loss, accuracy = model.evaluate(X_train, Y_train)\r\n",
        "print(\"訓練資料集的準確度 = {:.2f}\".format(accuracy))\r\n",
        "loss, accuracy = model.evaluate(X_test, Y_test)\r\n",
        "print(\"測試資料集的準確度 = {:.2f}\".format(accuracy))"
      ],
      "execution_count": 77,
      "outputs": [
        {
          "output_type": "stream",
          "text": [
            "1875/1875 [==============================] - 22s 12ms/step - loss: 0.0400 - accuracy: 0.9882\n",
            "訓練資料集的準確度 = 0.99\n",
            "313/313 [==============================] - 4s 12ms/step - loss: 0.0450 - accuracy: 0.9861\n",
            "測試資料集的準確度 = 0.99\n"
          ],
          "name": "stdout"
        }
      ]
    },
    {
      "cell_type": "code",
      "metadata": {
        "colab": {
          "base_uri": "https://localhost:8080/",
          "height": 295
        },
        "id": "SNThn0Spu0OP",
        "outputId": "48eb5931-6453-4a85-c310-15daed03f419"
      },
      "source": [
        "loss = history.history[\"loss\"]\r\n",
        "epochs = range(1, len(loss)+1)\r\n",
        "val_loss = history.history[\"val_loss\"]\r\n",
        "plt.plot(epochs, loss, \"bo-\", label=\"Training Loss\")\r\n",
        "plt.plot(epochs, val_loss, \"ro--\", label=\"Validation Loss\")\r\n",
        "plt.title(\"Training and Validation Loss\")\r\n",
        "plt.xlabel(\"Epochs\")\r\n",
        "plt.ylabel(\"Loss\")\r\n",
        "plt.legend()\r\n",
        "plt.show()"
      ],
      "execution_count": 78,
      "outputs": [
        {
          "output_type": "display_data",
          "data": {
            "image/png": "[encoded data removed]",
            "text/plain": [
              "<Figure size 432x288 with 1 Axes>"
            ]
          },
          "metadata": {
            "tags": [],
            "needs_background": "light"
          }
        }
      ]
    },
    {
      "cell_type": "code",
      "metadata": {
        "colab": {
          "base_uri": "https://localhost:8080/",
          "height": 295
        },
        "id": "WUPseyyMu_eI",
        "outputId": "ec220967-314d-47c1-d421-4e9c2d4458a1"
      },
      "source": [
        "acc = history.history[\"accuracy\"]\r\n",
        "epochs = range(1, len(acc)+1)\r\n",
        "val_acc = history.history[\"val_accuracy\"]\r\n",
        "plt.plot(epochs, acc, \"bo-\", label=\"Training Acc\")\r\n",
        "plt.plot(epochs, val_acc, \"ro--\", label=\"Validation Acc\")\r\n",
        "plt.title(\"Training and Validation Accuracy\")\r\n",
        "plt.xlabel(\"Epochs\")\r\n",
        "plt.ylabel(\"Accuracy\")\r\n",
        "plt.legend()\r\n",
        "plt.show()"
      ],
      "execution_count": 79,
      "outputs": [
        {
          "output_type": "display_data",
          "data": {
            "image/png": "[encoded data removed]",
            "text/plain": [
              "<Figure size 432x288 with 1 Axes>"
            ]
          },
          "metadata": {
            "tags": [],
            "needs_background": "light"
          }
        }
      ]
    },
    {
      "cell_type": "code",
      "metadata": {
        "colab": {
          "base_uri": "https://localhost:8080/",
          "height": 420
        },
        "id": "IkUwvVmnwOy3",
        "outputId": "a6aef548-3bad-4d33-b2b8-6cce24e30511"
      },
      "source": [
        "(X_train, Y_train), (X_test, Y_test) = mnist.load_data()\r\n",
        "X_test = X_test.reshape(X_test.shape[0], 28, 28, 1).astype(\"float32\")\r\n",
        "\r\n",
        "Y_pred = model.predict_classes(X_test)  # 分類\r\n",
        "Y_probs = model.predict_proba(X_test)   # 機率\r\n",
        "print(Y_test.shape)\r\n",
        "print(Y_pred.shape)\r\n",
        "print(Y_probs.shape)\r\n",
        "df = pd.DataFrame({\"label\":Y_test, \"predict\":Y_pred})\r\n",
        "df = df[Y_test!=Y_pred]  # 篩選出分類錯誤的資料\r\n",
        "i = df.sample(n=1).index.values.astype(int)[0]\r\n",
        "digit = X_test[i].reshape(28, 28) \r\n",
        "\r\n",
        "plt.figure()\r\n",
        "plt.subplot(1,2,1)\r\n",
        "plt.title(\"Example of Digit:\" + str(Y_test[i]))\r\n",
        "plt.imshow(digit, cmap=\"gray\")\r\n",
        "plt.axis(\"off\")\r\n",
        "plt.subplot(1,2,2)\r\n",
        "plt.title(\"Probabilities for Each Digit Class\")\r\n",
        "plt.bar(np.arange(10), Y_probs[i].reshape(10), align=\"center\")\r\n",
        "plt.xticks(np.arange(10),np.arange(10).astype(str))\r\n",
        "plt.show()"
      ],
      "execution_count": 80,
      "outputs": [
        {
          "output_type": "stream",
          "text": [
            "/usr/local/lib/python3.6/dist-packages/tensorflow/python/keras/engine/sequential.py:450: UserWarning: `model.predict_classes()` is deprecated and will be removed after 2021-01-01. Please use instead:* `np.argmax(model.predict(x), axis=-1)`,   if your model does multi-class classification   (e.g. if it uses a `softmax` last-layer activation).* `(model.predict(x) > 0.5).astype(\"int32\")`,   if your model does binary classification   (e.g. if it uses a `sigmoid` last-layer activation).\n",
            "  warnings.warn('`model.predict_classes()` is deprecated and '\n",
            "/usr/local/lib/python3.6/dist-packages/tensorflow/python/keras/engine/sequential.py:425: UserWarning: `model.predict_proba()` is deprecated and will be removed after 2021-01-01. Please use `model.predict()` instead.\n",
            "  warnings.warn('`model.predict_proba()` is deprecated and '\n"
          ],
          "name": "stderr"
        },
        {
          "output_type": "stream",
          "text": [
            "(10000,)\n",
            "(10000,)\n",
            "(10000, 10)\n"
          ],
          "name": "stdout"
        },
        {
          "output_type": "display_data",
          "data": {
            "image/png": "[encoded data removed]",
            "text/plain": [
              "<Figure size 432x288 with 2 Axes>"
            ]
          },
          "metadata": {
            "tags": [],
            "needs_background": "light"
          }
        }
      ]
    }
  ]
}