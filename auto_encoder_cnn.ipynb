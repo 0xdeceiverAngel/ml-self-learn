{
  "nbformat": 4,
  "nbformat_minor": 0,
  "metadata": {
    "colab": {
      "name": "auto encoder cnn.ipynb",
      "provenance": []
    },
    "kernelspec": {
      "name": "python3",
      "display_name": "Python 3"
    }
  },
  "cells": [
    {
      "cell_type": "code",
      "metadata": {
        "id": "yM03H5126HBe"
      },
      "source": [
        "import numpy as np\r\n",
        "from keras.datasets import mnist\r\n",
        "from keras.models import Model\r\n",
        "from keras.layers import Input, Conv2D, MaxPooling2D, UpSampling2D\r\n",
        "import matplotlib.pyplot as plt"
      ],
      "execution_count": 6,
      "outputs": []
    },
    {
      "cell_type": "code",
      "metadata": {
        "id": "5m49fVDT6clk"
      },
      "source": [
        "(X_train, _), (X_test, _) = mnist.load_data()\r\n",
        "X_train = X_train.reshape(X_train.shape[0], 28, 28, 1).astype(\"float32\")\r\n",
        "X_test = X_test.reshape(X_test.shape[0], 28, 28, 1).astype(\"float32\")\r\n",
        "X_train = X_train / 255\r\n",
        "X_test = X_test / 255"
      ],
      "execution_count": 7,
      "outputs": []
    },
    {
      "cell_type": "code",
      "metadata": {
        "colab": {
          "base_uri": "https://localhost:8080/"
        },
        "id": "yVDswzay6hCc",
        "outputId": "7dd8b7f0-222c-44d3-d5f3-797617d60518"
      },
      "source": [
        "input_img = Input(shape=(28,28,1))\r\n",
        "x = Conv2D(16, (3,3), activation=\"relu\", padding=\"same\")(input_img)\r\n",
        "x = MaxPooling2D((2,2), padding=\"same\")(x)\r\n",
        "x = Conv2D(8, (3,3), activation=\"relu\", padding=\"same\")(x)\r\n",
        "x = MaxPooling2D((2,2), padding=\"same\")(x)\r\n",
        "x = Conv2D(8, (3,3), activation=\"relu\", padding=\"same\")(x)\r\n",
        "encoded = MaxPooling2D((2,2), padding=\"same\")(x)\r\n",
        "x = Conv2D(8, (3,3), activation=\"relu\", padding=\"same\")(encoded)\r\n",
        "x = UpSampling2D((2,2))(x)\r\n",
        "x = Conv2D(8, (3,3), activation=\"relu\", padding=\"same\")(x)\r\n",
        "x = UpSampling2D((2,2))(x)\r\n",
        "x = Conv2D(16, (3,3), activation=\"relu\")(x)\r\n",
        "x = UpSampling2D((2,2))(x)\r\n",
        "decoded = Conv2D(1, (3, 3), activation=\"sigmoid\", padding=\"same\")(x)\r\n",
        "autoencoder = Model(input_img, decoded)\r\n",
        "autoencoder.compile(loss=\"binary_crossentropy\", optimizer=\"adam\",\r\n",
        "                    metrics=[\"accuracy\"])\r\n",
        "autoencoder.summary()    # 顯示模型摘要資訊\r\n",
        "\r\n",
        "\r\n",
        "encoder = Model(input_img, encoded)\r\n",
        "encoder.summary()    # 顯示模型摘要資訊\r\n",
        "# 定義 decoder 模型\r\n",
        "decoder_input = Input(shape=(4,4,8))\r\n",
        "decoder_layer = autoencoder.layers[-7](decoder_input)\r\n",
        "decoder_layer = autoencoder.layers[-6](decoder_layer)\r\n",
        "decoder_layer = autoencoder.layers[-5](decoder_layer)\r\n",
        "decoder_layer = autoencoder.layers[-4](decoder_layer)\r\n",
        "decoder_layer = autoencoder.layers[-3](decoder_layer)\r\n",
        "decoder_layer = autoencoder.layers[-2](decoder_layer)\r\n",
        "decoder_layer = autoencoder.layers[-1](decoder_layer)\r\n",
        "decoder = Model(decoder_input, decoder_layer)\r\n",
        "decoder.summary()   "
      ],
      "execution_count": 8,
      "outputs": [
        {
          "output_type": "stream",
          "text": [
            "Model: \"model_1\"\n",
            "_________________________________________________________________\n",
            "Layer (type)                 Output Shape              Param #   \n",
            "=================================================================\n",
            "input_2 (InputLayer)         [(None, 28, 28, 1)]       0         \n",
            "_________________________________________________________________\n",
            "conv2d_7 (Conv2D)            (None, 28, 28, 16)        160       \n",
            "_________________________________________________________________\n",
            "max_pooling2d_3 (MaxPooling2 (None, 14, 14, 16)        0         \n",
            "_________________________________________________________________\n",
            "conv2d_8 (Conv2D)            (None, 14, 14, 8)         1160      \n",
            "_________________________________________________________________\n",
            "max_pooling2d_4 (MaxPooling2 (None, 7, 7, 8)           0         \n",
            "_________________________________________________________________\n",
            "conv2d_9 (Conv2D)            (None, 7, 7, 8)           584       \n",
            "_________________________________________________________________\n",
            "max_pooling2d_5 (MaxPooling2 (None, 4, 4, 8)           0         \n",
            "_________________________________________________________________\n",
            "conv2d_10 (Conv2D)           (None, 4, 4, 8)           584       \n",
            "_________________________________________________________________\n",
            "up_sampling2d_3 (UpSampling2 (None, 8, 8, 8)           0         \n",
            "_________________________________________________________________\n",
            "conv2d_11 (Conv2D)           (None, 8, 8, 8)           584       \n",
            "_________________________________________________________________\n",
            "up_sampling2d_4 (UpSampling2 (None, 16, 16, 8)         0         \n",
            "_________________________________________________________________\n",
            "conv2d_12 (Conv2D)           (None, 14, 14, 16)        1168      \n",
            "_________________________________________________________________\n",
            "up_sampling2d_5 (UpSampling2 (None, 28, 28, 16)        0         \n",
            "_________________________________________________________________\n",
            "conv2d_13 (Conv2D)           (None, 28, 28, 1)         145       \n",
            "=================================================================\n",
            "Total params: 4,385\n",
            "Trainable params: 4,385\n",
            "Non-trainable params: 0\n",
            "_________________________________________________________________\n",
            "Model: \"model_2\"\n",
            "_________________________________________________________________\n",
            "Layer (type)                 Output Shape              Param #   \n",
            "=================================================================\n",
            "input_2 (InputLayer)         [(None, 28, 28, 1)]       0         \n",
            "_________________________________________________________________\n",
            "conv2d_7 (Conv2D)            (None, 28, 28, 16)        160       \n",
            "_________________________________________________________________\n",
            "max_pooling2d_3 (MaxPooling2 (None, 14, 14, 16)        0         \n",
            "_________________________________________________________________\n",
            "conv2d_8 (Conv2D)            (None, 14, 14, 8)         1160      \n",
            "_________________________________________________________________\n",
            "max_pooling2d_4 (MaxPooling2 (None, 7, 7, 8)           0         \n",
            "_________________________________________________________________\n",
            "conv2d_9 (Conv2D)            (None, 7, 7, 8)           584       \n",
            "_________________________________________________________________\n",
            "max_pooling2d_5 (MaxPooling2 (None, 4, 4, 8)           0         \n",
            "=================================================================\n",
            "Total params: 1,904\n",
            "Trainable params: 1,904\n",
            "Non-trainable params: 0\n",
            "_________________________________________________________________\n",
            "Model: \"model_3\"\n",
            "_________________________________________________________________\n",
            "Layer (type)                 Output Shape              Param #   \n",
            "=================================================================\n",
            "input_3 (InputLayer)         [(None, 4, 4, 8)]         0         \n",
            "_________________________________________________________________\n",
            "conv2d_10 (Conv2D)           (None, 4, 4, 8)           584       \n",
            "_________________________________________________________________\n",
            "up_sampling2d_3 (UpSampling2 (None, 8, 8, 8)           0         \n",
            "_________________________________________________________________\n",
            "conv2d_11 (Conv2D)           (None, 8, 8, 8)           584       \n",
            "_________________________________________________________________\n",
            "up_sampling2d_4 (UpSampling2 (None, 16, 16, 8)         0         \n",
            "_________________________________________________________________\n",
            "conv2d_12 (Conv2D)           (None, 14, 14, 16)        1168      \n",
            "_________________________________________________________________\n",
            "up_sampling2d_5 (UpSampling2 (None, 28, 28, 16)        0         \n",
            "_________________________________________________________________\n",
            "conv2d_13 (Conv2D)           (None, 28, 28, 1)         145       \n",
            "=================================================================\n",
            "Total params: 2,481\n",
            "Trainable params: 2,481\n",
            "Non-trainable params: 0\n",
            "_________________________________________________________________\n"
          ],
          "name": "stdout"
        }
      ]
    },
    {
      "cell_type": "code",
      "metadata": {
        "colab": {
          "base_uri": "https://localhost:8080/"
        },
        "id": "3jMl1dhs6u3b",
        "outputId": "28e00ca4-7108-41cc-a5b1-f5b4969badfc"
      },
      "source": [
        "autoencoder.fit(X_train, X_train, validation_data=(X_test, X_test), \r\n",
        "                epochs=10, batch_size=128, shuffle=True, verbose=2)"
      ],
      "execution_count": 9,
      "outputs": [
        {
          "output_type": "stream",
          "text": [
            "Epoch 1/10\n",
            "469/469 - 79s - loss: 0.2171 - accuracy: 0.7935 - val_loss: 0.1481 - val_accuracy: 0.8017\n",
            "Epoch 2/10\n",
            "469/469 - 78s - loss: 0.1361 - accuracy: 0.8048 - val_loss: 0.1255 - val_accuracy: 0.8063\n",
            "Epoch 3/10\n",
            "469/469 - 78s - loss: 0.1220 - accuracy: 0.8081 - val_loss: 0.1165 - val_accuracy: 0.8080\n",
            "Epoch 4/10\n",
            "469/469 - 78s - loss: 0.1150 - accuracy: 0.8095 - val_loss: 0.1115 - val_accuracy: 0.8095\n",
            "Epoch 5/10\n",
            "469/469 - 78s - loss: 0.1107 - accuracy: 0.8103 - val_loss: 0.1082 - val_accuracy: 0.8100\n",
            "Epoch 6/10\n",
            "469/469 - 79s - loss: 0.1077 - accuracy: 0.8108 - val_loss: 0.1053 - val_accuracy: 0.8101\n",
            "Epoch 7/10\n",
            "469/469 - 78s - loss: 0.1053 - accuracy: 0.8112 - val_loss: 0.1032 - val_accuracy: 0.8103\n",
            "Epoch 8/10\n",
            "469/469 - 79s - loss: 0.1034 - accuracy: 0.8115 - val_loss: 0.1015 - val_accuracy: 0.8107\n",
            "Epoch 9/10\n",
            "469/469 - 78s - loss: 0.1020 - accuracy: 0.8117 - val_loss: 0.1003 - val_accuracy: 0.8106\n",
            "Epoch 10/10\n",
            "469/469 - 79s - loss: 0.1007 - accuracy: 0.8119 - val_loss: 0.0997 - val_accuracy: 0.8117\n"
          ],
          "name": "stdout"
        },
        {
          "output_type": "execute_result",
          "data": {
            "text/plain": [
              "<tensorflow.python.keras.callbacks.History at 0x7f0b00ffa438>"
            ]
          },
          "metadata": {
            "tags": []
          },
          "execution_count": 9
        }
      ]
    },
    {
      "cell_type": "code",
      "metadata": {
        "id": "7-l2MV3C6_Hx"
      },
      "source": [
        "encoded_imgs = encoder.predict(X_test)"
      ],
      "execution_count": 10,
      "outputs": []
    },
    {
      "cell_type": "code",
      "metadata": {
        "id": "ffKcxxi56_0C"
      },
      "source": [
        "decoded_imgs = decoder.predict(encoded_imgs)"
      ],
      "execution_count": 11,
      "outputs": []
    },
    {
      "cell_type": "code",
      "metadata": {
        "colab": {
          "base_uri": "https://localhost:8080/",
          "height": 213
        },
        "id": "Yy8lD03J7Elt",
        "outputId": "30c7a0b9-a5aa-43db-8ef9-ec0218ef5456"
      },
      "source": [
        "n=10\r\n",
        "for i in range(n):\r\n",
        "    # 原始圖片\r\n",
        "    ax = plt.subplot(3, n, i + 1)\r\n",
        "    ax.imshow(X_test[i].reshape(28, 28), cmap=\"gray\")\r\n",
        "    ax.axis(\"off\")\r\n",
        "    # 壓縮圖片\r\n",
        "    ax = plt.subplot(3, n, i + 1 + n)\r\n",
        "    ax.imshow(encoded_imgs[i].reshape(4, 4*8).T, cmap=\"gray\")\r\n",
        "    ax.axis(\"off\")\r\n",
        "    # 還原圖片\r\n",
        "    ax = plt.subplot(3, n, i + 1 + 2*n)\r\n",
        "    ax.imshow(decoded_imgs[i].reshape(28, 28), cmap=\"gray\")\r\n",
        "    ax.axis(\"off\")\r\n",
        "plt.show()"
      ],
      "execution_count": 13,
      "outputs": [
        {
          "output_type": "display_data",
          "data": {
            "image/png": "[encoded data removed]",
            "text/plain": [
              "<Figure size 432x288 with 30 Axes>"
            ]
          },
          "metadata": {
            "tags": [],
            "needs_background": "light"
          }
        }
      ]
    },
    {
      "cell_type": "code",
      "metadata": {
        "id": "fkL5ji2o8AyN"
      },
      "source": [
        "autoencoder.save(\"ae_cnn.h5\")"
      ],
      "execution_count": 14,
      "outputs": []
    }
  ]
}